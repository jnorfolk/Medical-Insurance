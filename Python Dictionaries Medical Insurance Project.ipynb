{
 "cells": [
  {
   "cell_type": "code",
   "execution_count": 2,
   "id": "07f8ae13",
   "metadata": {},
   "outputs": [],
   "source": [
    "medical_costs = {}"
   ]
  },
  {
   "cell_type": "code",
   "execution_count": 7,
   "id": "16e5ae0f",
   "metadata": {},
   "outputs": [],
   "source": [
    "medical_costs['Marina'] = 6607.0\n",
    "medical_costs['Vinay'] = 3225.0"
   ]
  },
  {
   "cell_type": "code",
   "execution_count": 9,
   "id": "f905b065",
   "metadata": {},
   "outputs": [],
   "source": [
    "medical_costs.update({'Connie': 8886.0, 'Isaac': 16444.0, 'Valentina': 6420.0})"
   ]
  },
  {
   "cell_type": "code",
   "execution_count": 15,
   "id": "14e195fc",
   "metadata": {},
   "outputs": [
    {
     "data": {
      "text/plain": [
       "{'Marina': 6607.0,\n",
       " 'Vinay': 3325.0,\n",
       " 'Connie': 8886.0,\n",
       " 'Isaac': 16444.0,\n",
       " 'Valentina': 6420.0}"
      ]
     },
     "execution_count": 15,
     "metadata": {},
     "output_type": "execute_result"
    }
   ],
   "source": [
    "medical_costs"
   ]
  },
  {
   "cell_type": "code",
   "execution_count": 14,
   "id": "d4af59fa",
   "metadata": {},
   "outputs": [],
   "source": [
    "medical_costs['Vinay']= 3325.0"
   ]
  },
  {
   "cell_type": "code",
   "execution_count": 32,
   "id": "4b53a367",
   "metadata": {},
   "outputs": [
    {
     "name": "stdout",
     "output_type": "stream",
     "text": [
      "Total Cost: 41682.0\n",
      "Average Insurance Cost: 8336.4\n"
     ]
    }
   ],
   "source": [
    "total_cost = 0\n",
    "for item in medical_costs.values():\n",
    "    total_cost += item\n",
    "average_cost = total_cost / len(medical_costs)\n",
    "print(f'Total Cost: {total_cost}')\n",
    "print(f'Average Insurance Cost: {average_cost}')"
   ]
  },
  {
   "cell_type": "code",
   "execution_count": 33,
   "id": "0314f9ef",
   "metadata": {},
   "outputs": [],
   "source": [
    "names = ['Marina', 'Vinay', 'Connie', 'Isaac', 'Valentina']\n",
    "ages = [27, 24, 43, 35, 52]"
   ]
  },
  {
   "cell_type": "code",
   "execution_count": 40,
   "id": "77ce3860",
   "metadata": {},
   "outputs": [],
   "source": [
    "zipped_ages = list(zip(names, ages))"
   ]
  },
  {
   "cell_type": "code",
   "execution_count": 41,
   "id": "d9620203",
   "metadata": {},
   "outputs": [
    {
     "name": "stdout",
     "output_type": "stream",
     "text": [
      "{'Marina': 27, 'Vinay': 24, 'Connie': 43, 'Isaac': 35, 'Valentina': 52}\n"
     ]
    }
   ],
   "source": [
    "names_to_ages = {key: value for key, value in zipped_ages}\n",
    "print(names_to_ages)"
   ]
  },
  {
   "cell_type": "code",
   "execution_count": 44,
   "id": "93c1f86e",
   "metadata": {},
   "outputs": [
    {
     "name": "stdout",
     "output_type": "stream",
     "text": [
      "Marina's age is 27\n"
     ]
    }
   ],
   "source": [
    "marina_age = names_to_ages.get('Marina', None)\n",
    "print(f\"Marina's age is {marina_age}\")"
   ]
  },
  {
   "cell_type": "code",
   "execution_count": 45,
   "id": "bf25368b",
   "metadata": {},
   "outputs": [],
   "source": [
    "medical_records = {}"
   ]
  },
  {
   "cell_type": "code",
   "execution_count": 46,
   "id": "2632207c",
   "metadata": {},
   "outputs": [],
   "source": [
    "medical_records['Marina'] = {\"Age\": 27, \"Sex\": \"Female\", \"BMI\": 31.1, \\\n",
    "                             \"Children\": 2, \"Smoker\": \"Non-smoker\", \"Insurance_cost\": 6607.0}"
   ]
  },
  {
   "cell_type": "code",
   "execution_count": 47,
   "id": "52031011",
   "metadata": {},
   "outputs": [],
   "source": [
    "medical_records[\"Vinay\"] = {\"Age\": 24, \"Sex\": \"Male\", \"BMI\": 26.9, \"Children\": 0, \"Smoker\": \"Non-smoker\", \"Insurance_cost\": 3225.0}\n",
    "medical_records[\"Connie\"] = {\"Age\": 43, \"Sex\": \"Female\", \"BMI\": 25.3, \"Children\": 3, \"Smoker\": \"Non-smoker\", \"Insurance_cost\": 8886.0}\n",
    "medical_records[\"Isaac\"] = {\"Age\": 35, \"Sex\": \"Male\", \"BMI\": 20.6, \"Children\": 4, \"Smoker\": \"Smoker\", \"Insurance_cost\": 16444.0}\n",
    "medical_records[\"Valentina\"] = {\"Age\": 52, \"Sex\": \"Female\", \"BMI\": 18.7, \"Children\": 1, \"Smoker\": \"Non-smoker\", \"Insurance_cost\": 6420.0}"
   ]
  },
  {
   "cell_type": "code",
   "execution_count": 48,
   "id": "7235de4b",
   "metadata": {},
   "outputs": [
    {
     "name": "stdout",
     "output_type": "stream",
     "text": [
      "{'Marina': {'Age': 27, 'Sex': 'Female', 'BMI': 31.1, 'Children': 2, 'Smoker': 'Non-smoker', 'Insurance_cost': 6607.0}, 'Vinay': {'Age': 24, 'Sex': 'Male', 'BMI': 26.9, 'Children': 0, 'Smoker': 'Non-smoker', 'Insurance_cost': 3225.0}, 'Connie': {'Age': 43, 'Sex': 'Female', 'BMI': 25.3, 'Children': 3, 'Smoker': 'Non-smoker', 'Insurance_cost': 8886.0}, 'Isaac': {'Age': 35, 'Sex': 'Male', 'BMI': 20.6, 'Children': 4, 'Smoker': 'Smoker', 'Insurance_cost': 16444.0}, 'Valentina': {'Age': 52, 'Sex': 'Female', 'BMI': 18.7, 'Children': 1, 'Smoker': 'Non-smoker', 'Insurance_cost': 6420.0}}\n"
     ]
    }
   ],
   "source": [
    "print(medical_records)"
   ]
  },
  {
   "cell_type": "code",
   "execution_count": 53,
   "id": "a21cfdef",
   "metadata": {},
   "outputs": [
    {
     "name": "stdout",
     "output_type": "stream",
     "text": [
      "Connie's insurance cost is 8886.0 dollars.\n"
     ]
    }
   ],
   "source": [
    "print(f\"Connie's insurance cost is {medical_records['Connie']['Insurance_cost']} dollars.\")"
   ]
  },
  {
   "cell_type": "code",
   "execution_count": 55,
   "id": "d735f18c",
   "metadata": {},
   "outputs": [
    {
     "data": {
      "text/plain": [
       "{'Age': 24,\n",
       " 'Sex': 'Male',\n",
       " 'BMI': 26.9,\n",
       " 'Children': 0,\n",
       " 'Smoker': 'Non-smoker',\n",
       " 'Insurance_cost': 3225.0}"
      ]
     },
     "execution_count": 55,
     "metadata": {},
     "output_type": "execute_result"
    }
   ],
   "source": [
    "medical_records.pop('Vinay')"
   ]
  },
  {
   "cell_type": "code",
   "execution_count": 56,
   "id": "d403617b",
   "metadata": {},
   "outputs": [
    {
     "name": "stdout",
     "output_type": "stream",
     "text": [
      "{'Marina': {'Age': 27, 'Sex': 'Female', 'BMI': 31.1, 'Children': 2, 'Smoker': 'Non-smoker', 'Insurance_cost': 6607.0}, 'Connie': {'Age': 43, 'Sex': 'Female', 'BMI': 25.3, 'Children': 3, 'Smoker': 'Non-smoker', 'Insurance_cost': 8886.0}, 'Isaac': {'Age': 35, 'Sex': 'Male', 'BMI': 20.6, 'Children': 4, 'Smoker': 'Smoker', 'Insurance_cost': 16444.0}, 'Valentina': {'Age': 52, 'Sex': 'Female', 'BMI': 18.7, 'Children': 1, 'Smoker': 'Non-smoker', 'Insurance_cost': 6420.0}}\n"
     ]
    }
   ],
   "source": [
    "print(medical_records)"
   ]
  },
  {
   "cell_type": "code",
   "execution_count": 69,
   "id": "28aeed00",
   "metadata": {},
   "outputs": [
    {
     "name": "stdout",
     "output_type": "stream",
     "text": [
      "Marina is a 27 year old Female Non-smoker with a BMI of 31.1 and insurance cost of 6607.0\n",
      "Connie is a 43 year old Female Non-smoker with a BMI of 25.3 and insurance cost of 8886.0\n",
      "Isaac is a 35 year old Male Smoker with a BMI of 20.6 and insurance cost of 16444.0\n",
      "Valentina is a 52 year old Female Non-smoker with a BMI of 18.7 and insurance cost of 6420.0\n"
     ]
    }
   ],
   "source": [
    "for name in medical_records:\n",
    "    print(f\"{name} is a {medical_records[name]['Age']} year old {medical_records[name]['Sex']} \\\n",
    "{medical_records[name]['Smoker']} with a BMI of {medical_records[name]['BMI']} and \\\n",
    "insurance cost of {medical_records[name]['Insurance_cost']}\")"
   ]
  },
  {
   "cell_type": "code",
   "execution_count": 74,
   "id": "bafb8442",
   "metadata": {},
   "outputs": [],
   "source": [
    "def medical_data_update(name, age, sex, smoker, bmi, insurance_cost):\n",
    "    medical_records.update({name: {'Age': age, 'Sex': sex, 'Smoker': smoker, 'BMI': bmi, \\\n",
    "'Insurance_cost': insurance_cost}})"
   ]
  },
  {
   "cell_type": "code",
   "execution_count": 75,
   "id": "e9d005fe",
   "metadata": {},
   "outputs": [],
   "source": [
    "medical_data_update('Josh', 24, 'Male', 'Non-smoker', 24, 8500)"
   ]
  },
  {
   "cell_type": "code",
   "execution_count": 76,
   "id": "f220fb30",
   "metadata": {},
   "outputs": [
    {
     "name": "stdout",
     "output_type": "stream",
     "text": [
      "{'Marina': {'Age': 27, 'Sex': 'Female', 'BMI': 31.1, 'Children': 2, 'Smoker': 'Non-smoker', 'Insurance_cost': 6607.0}, 'Connie': {'Age': 43, 'Sex': 'Female', 'BMI': 25.3, 'Children': 3, 'Smoker': 'Non-smoker', 'Insurance_cost': 8886.0}, 'Isaac': {'Age': 35, 'Sex': 'Male', 'BMI': 20.6, 'Children': 4, 'Smoker': 'Smoker', 'Insurance_cost': 16444.0}, 'Valentina': {'Age': 52, 'Sex': 'Female', 'BMI': 18.7, 'Children': 1, 'Smoker': 'Non-smoker', 'Insurance_cost': 6420.0}, 'Josh': {'Age': 24, 'Sex': 'Male', 'Smoker': 'Non-smoker', 'BMI': 24, 'Insurance_cost': 8500}}\n"
     ]
    }
   ],
   "source": [
    "print(medical_records)"
   ]
  },
  {
   "cell_type": "code",
   "execution_count": null,
   "id": "ef754c03",
   "metadata": {},
   "outputs": [],
   "source": []
  }
 ],
 "metadata": {
  "kernelspec": {
   "display_name": "Python 3 (ipykernel)",
   "language": "python",
   "name": "python3"
  },
  "language_info": {
   "codemirror_mode": {
    "name": "ipython",
    "version": 3
   },
   "file_extension": ".py",
   "mimetype": "text/x-python",
   "name": "python",
   "nbconvert_exporter": "python",
   "pygments_lexer": "ipython3",
   "version": "3.9.12"
  }
 },
 "nbformat": 4,
 "nbformat_minor": 5
}
