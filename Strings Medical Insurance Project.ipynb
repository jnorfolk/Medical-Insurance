{
 "cells": [
  {
   "cell_type": "code",
   "execution_count": 1,
   "id": "2e95204c",
   "metadata": {},
   "outputs": [],
   "source": [
    "medical_data = \\\n",
    "\"\"\"Marina Allison   ,27   ,   31.1 , \n",
    "#7010.0   ;Markus Valdez   ,   30, \n",
    "22.4,   #4050.0 ;Connie Ballard ,43 \n",
    ",   25.3 , #12060.0 ;Darnell Weber   \n",
    ",   35   , 20.6   , #7500.0;\n",
    "Sylvie Charles   ,22, 22.1 \n",
    ",#3022.0   ;   Vinay Padilla,24,   \n",
    "26.9 ,#4620.0 ;Meredith Santiago, 51   , \n",
    "29.3 ,#16330.0;   Andre Mccarty, \n",
    "19,22.7 , #2900.0 ; \n",
    "Lorena Hodson ,65, 33.1 , #19370.0; \n",
    "Isaac Vu ,34, 24.8,   #7045.0\"\"\""
   ]
  },
  {
   "cell_type": "code",
   "execution_count": 2,
   "id": "84111cea",
   "metadata": {},
   "outputs": [
    {
     "name": "stdout",
     "output_type": "stream",
     "text": [
      "Marina Allison   ,27   ,   31.1 , \n",
      "#7010.0   ;Markus Valdez   ,   30, \n",
      "22.4,   #4050.0 ;Connie Ballard ,43 \n",
      ",   25.3 , #12060.0 ;Darnell Weber   \n",
      ",   35   , 20.6   , #7500.0;\n",
      "Sylvie Charles   ,22, 22.1 \n",
      ",#3022.0   ;   Vinay Padilla,24,   \n",
      "26.9 ,#4620.0 ;Meredith Santiago, 51   , \n",
      "29.3 ,#16330.0;   Andre Mccarty, \n",
      "19,22.7 , #2900.0 ; \n",
      "Lorena Hodson ,65, 33.1 , #19370.0; \n",
      "Isaac Vu ,34, 24.8,   #7045.0\n"
     ]
    }
   ],
   "source": [
    "print(medical_data)"
   ]
  },
  {
   "cell_type": "code",
   "execution_count": 3,
   "id": "5e0fdc7c",
   "metadata": {},
   "outputs": [],
   "source": [
    "updated_medical_data = medical_data.replace('#','$')"
   ]
  },
  {
   "cell_type": "code",
   "execution_count": 4,
   "id": "3a2975bb",
   "metadata": {},
   "outputs": [
    {
     "name": "stdout",
     "output_type": "stream",
     "text": [
      "Marina Allison   ,27   ,   31.1 , \n",
      "$7010.0   ;Markus Valdez   ,   30, \n",
      "22.4,   $4050.0 ;Connie Ballard ,43 \n",
      ",   25.3 , $12060.0 ;Darnell Weber   \n",
      ",   35   , 20.6   , $7500.0;\n",
      "Sylvie Charles   ,22, 22.1 \n",
      ",$3022.0   ;   Vinay Padilla,24,   \n",
      "26.9 ,$4620.0 ;Meredith Santiago, 51   , \n",
      "29.3 ,$16330.0;   Andre Mccarty, \n",
      "19,22.7 , $2900.0 ; \n",
      "Lorena Hodson ,65, 33.1 , $19370.0; \n",
      "Isaac Vu ,34, 24.8,   $7045.0\n"
     ]
    }
   ],
   "source": [
    "print(updated_medical_data)"
   ]
  },
  {
   "cell_type": "code",
   "execution_count": 10,
   "id": "2f3eea8c",
   "metadata": {},
   "outputs": [],
   "source": [
    "num_records = 0"
   ]
  },
  {
   "cell_type": "code",
   "execution_count": 11,
   "id": "2bc4201d",
   "metadata": {},
   "outputs": [],
   "source": [
    "for character in updated_medical_data:\n",
    "    if character == '$':\n",
    "        num_records += 1"
   ]
  },
  {
   "cell_type": "code",
   "execution_count": 12,
   "id": "31be97c1",
   "metadata": {},
   "outputs": [
    {
     "name": "stdout",
     "output_type": "stream",
     "text": [
      "10\n"
     ]
    }
   ],
   "source": [
    "print(num_records)"
   ]
  },
  {
   "cell_type": "code",
   "execution_count": 13,
   "id": "e5570097",
   "metadata": {},
   "outputs": [
    {
     "name": "stdout",
     "output_type": "stream",
     "text": [
      "There are 10 medical records in the data.\n"
     ]
    }
   ],
   "source": [
    "print(f'There are {num_records} medical records in the data.')"
   ]
  },
  {
   "cell_type": "code",
   "execution_count": 14,
   "id": "519e68a6",
   "metadata": {},
   "outputs": [],
   "source": [
    "medical_data_split = updated_medical_data.split(';')"
   ]
  },
  {
   "cell_type": "code",
   "execution_count": 15,
   "id": "164b3139",
   "metadata": {},
   "outputs": [
    {
     "name": "stdout",
     "output_type": "stream",
     "text": [
      "['Marina Allison   ,27   ,   31.1 , \\n$7010.0   ', 'Markus Valdez   ,   30, \\n22.4,   $4050.0 ', 'Connie Ballard ,43 \\n,   25.3 , $12060.0 ', 'Darnell Weber   \\n,   35   , 20.6   , $7500.0', '\\nSylvie Charles   ,22, 22.1 \\n,$3022.0   ', '   Vinay Padilla,24,   \\n26.9 ,$4620.0 ', 'Meredith Santiago, 51   , \\n29.3 ,$16330.0', '   Andre Mccarty, \\n19,22.7 , $2900.0 ', ' \\nLorena Hodson ,65, 33.1 , $19370.0', ' \\nIsaac Vu ,34, 24.8,   $7045.0']\n"
     ]
    }
   ],
   "source": [
    "print(medical_data_split)"
   ]
  },
  {
   "cell_type": "code",
   "execution_count": 16,
   "id": "e1ee9ecd",
   "metadata": {},
   "outputs": [],
   "source": [
    "medical_records = []"
   ]
  },
  {
   "cell_type": "code",
   "execution_count": 20,
   "id": "7f3b3d82",
   "metadata": {},
   "outputs": [],
   "source": [
    "for item in medical_data_split:\n",
    "    medical_records.append(item.split(','))"
   ]
  },
  {
   "cell_type": "code",
   "execution_count": 21,
   "id": "8a742569",
   "metadata": {},
   "outputs": [
    {
     "name": "stdout",
     "output_type": "stream",
     "text": [
      "[['Marina Allison   ', '27   ', '   31.1 ', ' \\n$7010.0   '], ['Markus Valdez   ', '   30', ' \\n22.4', '   $4050.0 '], ['Connie Ballard ', '43 \\n', '   25.3 ', ' $12060.0 '], ['Darnell Weber   \\n', '   35   ', ' 20.6   ', ' $7500.0'], ['\\nSylvie Charles   ', '22', ' 22.1 \\n', '$3022.0   '], ['   Vinay Padilla', '24', '   \\n26.9 ', '$4620.0 '], ['Meredith Santiago', ' 51   ', ' \\n29.3 ', '$16330.0'], ['   Andre Mccarty', ' \\n19', '22.7 ', ' $2900.0 '], [' \\nLorena Hodson ', '65', ' 33.1 ', ' $19370.0'], [' \\nIsaac Vu ', '34', ' 24.8', '   $7045.0']]\n"
     ]
    }
   ],
   "source": [
    "print(medical_records)"
   ]
  },
  {
   "cell_type": "code",
   "execution_count": 22,
   "id": "6fe31d71",
   "metadata": {},
   "outputs": [],
   "source": [
    "medical_records_clean = []"
   ]
  },
  {
   "cell_type": "code",
   "execution_count": 25,
   "id": "87faa074",
   "metadata": {},
   "outputs": [],
   "source": [
    "for record in medical_records:\n",
    "    record_clean = []\n",
    "    for item in record:\n",
    "        record_clean.append(item.strip())\n",
    "    medical_records_clean.append(record_clean)"
   ]
  },
  {
   "cell_type": "code",
   "execution_count": 26,
   "id": "e036069b",
   "metadata": {},
   "outputs": [
    {
     "name": "stdout",
     "output_type": "stream",
     "text": [
      "[['Marina Allison', '27', '31.1', '$7010.0'], ['Markus Valdez', '30', '22.4', '$4050.0'], ['Connie Ballard', '43', '25.3', '$12060.0'], ['Darnell Weber', '35', '20.6', '$7500.0'], ['Sylvie Charles', '22', '22.1', '$3022.0'], ['Vinay Padilla', '24', '26.9', '$4620.0'], ['Meredith Santiago', '51', '29.3', '$16330.0'], ['Andre Mccarty', '19', '22.7', '$2900.0'], ['Lorena Hodson', '65', '33.1', '$19370.0'], ['Isaac Vu', '34', '24.8', '$7045.0']]\n"
     ]
    }
   ],
   "source": [
    "print(medical_records_clean)"
   ]
  },
  {
   "cell_type": "code",
   "execution_count": 30,
   "id": "951fc402",
   "metadata": {
    "scrolled": true
   },
   "outputs": [
    {
     "name": "stdout",
     "output_type": "stream",
     "text": [
      "MARINA ALLISON\n",
      "MARKUS VALDEZ\n",
      "CONNIE BALLARD\n",
      "DARNELL WEBER\n",
      "SYLVIE CHARLES\n",
      "VINAY PADILLA\n",
      "MEREDITH SANTIAGO\n",
      "ANDRE MCCARTY\n",
      "LORENA HODSON\n",
      "ISAAC VU\n"
     ]
    }
   ],
   "source": [
    "for record in medical_records_clean: \n",
    "    record[0] = record[0].upper()\n",
    "    print(record[0])"
   ]
  },
  {
   "cell_type": "code",
   "execution_count": 31,
   "id": "c6e842ed",
   "metadata": {},
   "outputs": [],
   "source": [
    "names = []\n",
    "ages = []\n",
    "bmis = []\n",
    "insurance_costs = []"
   ]
  },
  {
   "cell_type": "code",
   "execution_count": 32,
   "id": "7566a511",
   "metadata": {},
   "outputs": [],
   "source": [
    "for record in medical_records_clean:\n",
    "    names.append(record[0])\n",
    "    ages.append(record[1])\n",
    "    bmis.append(record[2])\n",
    "    insurance_costs.append(record[3])"
   ]
  },
  {
   "cell_type": "code",
   "execution_count": 35,
   "id": "f991df1a",
   "metadata": {},
   "outputs": [
    {
     "name": "stdout",
     "output_type": "stream",
     "text": [
      "Names: ['MARINA ALLISON', 'MARKUS VALDEZ', 'CONNIE BALLARD', 'DARNELL WEBER', 'SYLVIE CHARLES', 'VINAY PADILLA', 'MEREDITH SANTIAGO', 'ANDRE MCCARTY', 'LORENA HODSON', 'ISAAC VU']\n",
      "Ages: ['27', '30', '43', '35', '22', '24', '51', '19', '65', '34']\n",
      "Bmis: ['31.1', '22.4', '25.3', '20.6', '22.1', '26.9', '29.3', '22.7', '33.1', '24.8']\n",
      "Insurance costs: ['$7010.0', '$4050.0', '$12060.0', '$7500.0', '$3022.0', '$4620.0', '$16330.0', '$2900.0', '$19370.0', '$7045.0']\n"
     ]
    }
   ],
   "source": [
    "print('Names: ' + str(names))\n",
    "print(\"Ages: \" + str(ages))\n",
    "print('Bmis: ' + str(bmis))\n",
    "print(\"Insurance costs: \" + str(insurance_costs))"
   ]
  },
  {
   "cell_type": "code",
   "execution_count": 36,
   "id": "64ac5018",
   "metadata": {},
   "outputs": [],
   "source": [
    "total_bmi = 0"
   ]
  },
  {
   "cell_type": "code",
   "execution_count": 37,
   "id": "eadd8bf1",
   "metadata": {},
   "outputs": [],
   "source": [
    "for bmi in bmis:\n",
    "    total_bmi += float(bmi)"
   ]
  },
  {
   "cell_type": "code",
   "execution_count": 40,
   "id": "259a09f6",
   "metadata": {},
   "outputs": [],
   "source": [
    "average_bmi = round((total_bmi / len(bmis)), 2)"
   ]
  },
  {
   "cell_type": "code",
   "execution_count": 43,
   "id": "feadce5c",
   "metadata": {},
   "outputs": [
    {
     "name": "stdout",
     "output_type": "stream",
     "text": [
      "Average BMI: 25.83\n"
     ]
    }
   ],
   "source": [
    "print(\"Average BMI: \" + str(average_bmi))"
   ]
  },
  {
   "cell_type": "code",
   "execution_count": 51,
   "id": "58b32ef2",
   "metadata": {},
   "outputs": [],
   "source": [
    "insurance_costs_clean = []\n",
    "for item in insurance_costs:\n",
    "    cost = item[1:]\n",
    "    insurance_costs_clean.append(cost)"
   ]
  },
  {
   "cell_type": "code",
   "execution_count": 52,
   "id": "cacdf90f",
   "metadata": {},
   "outputs": [
    {
     "name": "stdout",
     "output_type": "stream",
     "text": [
      "['7010.0', '4050.0', '12060.0', '7500.0', '3022.0', '4620.0', '16330.0', '2900.0', '19370.0', '7045.0']\n"
     ]
    }
   ],
   "source": [
    "print(insurance_costs_clean)"
   ]
  },
  {
   "cell_type": "code",
   "execution_count": 54,
   "id": "51900b24",
   "metadata": {},
   "outputs": [
    {
     "data": {
      "text/plain": [
       "8390.7"
      ]
     },
     "execution_count": 54,
     "metadata": {},
     "output_type": "execute_result"
    }
   ],
   "source": [
    "total_insurance_cost = 0\n",
    "for item in insurance_costs_clean:\n",
    "    total_insurance_cost += float(item)\n",
    "total_insurance_cost / len(insurance_costs_clean)"
   ]
  },
  {
   "cell_type": "code",
   "execution_count": 65,
   "id": "9df31f8f",
   "metadata": {},
   "outputs": [
    {
     "name": "stdout",
     "output_type": "stream",
     "text": [
      "MARINA ALLISON is 27 years old with a BMI of 31.1 and an insurance cost of $7010.0.\n",
      "MARKUS VALDEZ is 30 years old with a BMI of 22.4 and an insurance cost of $4050.0.\n",
      "CONNIE BALLARD is 43 years old with a BMI of 25.3 and an insurance cost of $12060.0.\n",
      "DARNELL WEBER is 35 years old with a BMI of 20.6 and an insurance cost of $7500.0.\n",
      "SYLVIE CHARLES is 22 years old with a BMI of 22.1 and an insurance cost of $3022.0.\n",
      "VINAY PADILLA is 24 years old with a BMI of 26.9 and an insurance cost of $4620.0.\n",
      "MEREDITH SANTIAGO is 51 years old with a BMI of 29.3 and an insurance cost of $16330.0.\n",
      "ANDRE MCCARTY is 19 years old with a BMI of 22.7 and an insurance cost of $2900.0.\n",
      "LORENA HODSON is 65 years old with a BMI of 33.1 and an insurance cost of $19370.0.\n"
     ]
    }
   ],
   "source": [
    "for i in range(0, len(names)-1):\n",
    "    print(f'{names[i]} is {ages[i]} years old with a BMI of {bmis[i]} \\\n",
    "and an insurance cost of {insurance_costs[i]}.')"
   ]
  },
  {
   "cell_type": "code",
   "execution_count": null,
   "id": "28caa399",
   "metadata": {},
   "outputs": [],
   "source": []
  },
  {
   "cell_type": "code",
   "execution_count": null,
   "id": "517e51d9",
   "metadata": {},
   "outputs": [],
   "source": []
  }
 ],
 "metadata": {
  "kernelspec": {
   "display_name": "Python 3 (ipykernel)",
   "language": "python",
   "name": "python3"
  },
  "language_info": {
   "codemirror_mode": {
    "name": "ipython",
    "version": 3
   },
   "file_extension": ".py",
   "mimetype": "text/x-python",
   "name": "python",
   "nbconvert_exporter": "python",
   "pygments_lexer": "ipython3",
   "version": "3.9.12"
  }
 },
 "nbformat": 4,
 "nbformat_minor": 5
}
